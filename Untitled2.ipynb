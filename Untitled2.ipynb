{
  "nbformat": 4,
  "nbformat_minor": 0,
  "metadata": {
    "colab": {
      "name": "Untitled2.ipynb",
      "provenance": []
    },
    "kernelspec": {
      "name": "python3",
      "display_name": "Python 3"
    },
    "language_info": {
      "name": "python"
    }
  },
  "cells": [
    {
      "cell_type": "code",
      "metadata": {
        "id": "IU48FzFPee6b"
      },
      "source": [
        "a = [\n",
        "    {\n",
        "        \"_id\" : {\"oid\": \"5d011c94ee66e13d34c7c388\"},\n",
        "        \"userName\" : \"steve\",\n",
        "        \"email\" : \"stevenoname@radancy.com\",\n",
        "        \"password\" : \"affdsg342\",\n",
        "        \"houses\" : [\n",
        "            {\n",
        "                \"name\" : \"Bungalow\",\n",
        "                \"neighborhood\" : \"Marigny\"\n",
        "            },\n",
        "            {\n",
        "                \"name\" : \"Shotgun\",\n",
        "                \"neighborhood\" : \"Uptown\"\n",
        "            }\n",
        "        ]\n",
        "    },\n",
        "\n",
        "    {\n",
        "        \"_id\" : {\"oid\": \"5d011c94ee66e13d34c7c387\"},\n",
        "        \"userName\" : \"alex\",\n",
        "        \"email\" : \"alexnoname@radancy.com\",\n",
        "        \"password\" : \"67834783ujk\",\n",
        "        \"houses\" : [\n",
        "            {\n",
        "                \"name\" : \"Mansion\",\n",
        "                \"neighborhood\" : \"Garden District\"\n",
        "            },\n",
        "            {\n",
        "                \"name\" : \"Townhouse\",\n",
        "                \"neighborhood\" : \"Uptown\"\n",
        "            }\n",
        "        ]\n",
        "    },\n",
        "\n",
        "]"
      ],
      "execution_count": 2,
      "outputs": []
    },
    {
      "cell_type": "code",
      "metadata": {
        "colab": {
          "base_uri": "https://localhost:8080/"
        },
        "id": "15xCWi27ejlC",
        "outputId": "c839d3d9-7cb5-4efa-f42b-ca3db55e0098"
      },
      "source": [
        "print(a[0].keys)"
      ],
      "execution_count": 16,
      "outputs": [
        {
          "output_type": "stream",
          "text": [
            "<built-in method keys of dict object at 0x7f2d40742e60>\n"
          ],
          "name": "stdout"
        }
      ]
    },
    {
      "cell_type": "code",
      "metadata": {
        "colab": {
          "base_uri": "https://localhost:8080/"
        },
        "id": "NNbnSEaOekUA",
        "outputId": "5301f8b5-6fb2-49d3-d186-37205920bdad"
      },
      "source": [
        "for i in a:\n",
        "  for (k,v) in i.items():\n",
        "    if k == 'houses': \n",
        "      for h in v:\n",
        "        for (key, value) in h.items():\n",
        "          if value =='Uptown':\n",
        "            print(h)"
      ],
      "execution_count": 26,
      "outputs": [
        {
          "output_type": "stream",
          "text": [
            "{'name': 'Shotgun', 'neighborhood': 'Uptown'}\n",
            "{'name': 'Townhouse', 'neighborhood': 'Uptown'}\n"
          ],
          "name": "stdout"
        }
      ]
    },
    {
      "cell_type": "code",
      "metadata": {
        "id": "gzfuCuXwelAA"
      },
      "source": [
        ""
      ],
      "execution_count": null,
      "outputs": []
    }
  ]
}